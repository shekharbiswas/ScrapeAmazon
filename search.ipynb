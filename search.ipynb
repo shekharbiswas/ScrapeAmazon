{
 "cells": [
  {
   "cell_type": "code",
   "execution_count": 2,
   "metadata": {
    "tags": []
   },
   "outputs": [],
   "source": [
    "import numpy as np\n",
    "import pandas as pd \n",
    "import matplotlib.pyplot as plt  \n",
    "\n",
    "\n"
   ]
  },
  {
   "cell_type": "code",
   "execution_count": 4,
   "metadata": {},
   "outputs": [],
   "source": [
    "df = pd.read_json('search_output.jsonl')\n",
    "df.to_csv('search_df.csv')\n",
    "#df.url.to_csv('product_urls.txt', index = False, header = False)"
   ]
  },
  {
   "cell_type": "markdown",
   "metadata": {},
   "source": []
  },
  {
   "cell_type": "code",
   "execution_count": 5,
   "metadata": {},
   "outputs": [],
   "source": [
    "# new type of encoding\n",
    "#reviews = pd.read_csv('reviews/review_data.csv', encoding='ISO 8859-1')\n",
    "\n",
    "reviews = pd.read_csv('reviews/review_data.csv')"
   ]
  },
  {
   "cell_type": "code",
   "execution_count": 11,
   "metadata": {},
   "outputs": [
    {
     "output_type": "execute_result",
     "data": {
      "text/plain": "'B00N771OEE'"
     },
     "metadata": {},
     "execution_count": 11
    }
   ],
   "source": [
    "text = 'https://www.amazon.com/Betron-Headphones-Earphones-Isolating-Microphone/product-reviews/B00N771OEE/ref=cm_cr_dp_d_show_all_btm?ie=UTF8&reviewerType=all_reviews'\n",
    "\n",
    "text.split('/')[5]"
   ]
  },
  {
   "cell_type": "code",
   "execution_count": 6,
   "metadata": {},
   "outputs": [
    {
     "output_type": "execute_result",
     "data": {
      "text/plain": "             ASIN                                              title  \\\n0      B00N771OEE  so I turned to more inexpensive alternatives t...   \n1      B00N771OEE  In-Ear Headphones that Feel Like a Live Perfor...   \n2      B00N771OEE  Great Buy if You Want Great Sound Quality, Dee...   \n3      B00N771OEE                       I wish I could give 6 stars!   \n4      B00N771OEE                                  great head phones   \n...           ...                                                ...   \n43228  B082CSM4P4                    Compact, Well Made...  Perfect!   \n43229  B082CSM4P4                            it works and looks nice   \n43230  B082CSM4P4          Fantastic product with small form factor!   \n43231  B082CSM4P4                                            Perfect   \n43232  B082CSM4P4                              Exactly as advertised   \n\n                                                 content         date  \\\n0      I bought these along with the (Betron YSM1000 ...  26 Jan 2018   \n1      When my old earbuds stopped working in the mid...  25 Feb 2019   \n2      I was pleasantly surprised by the high quality...  19 Apr 2018   \n3      If I could give these earphones 6 stars, I wou...  23 Jul 2018   \n4      fast shipping, great head phones. You guys sho...  19 Nov 2017   \n...                                                  ...          ...   \n43228  Best adapter for the 2.5 balanced into a 4.4 b...  09 Apr 2020   \n43229  I tested it with ie800S 2.5mm and it works. ob...  05 May 2020   \n43230  Works as advertised. The 90 degree angle reall...  10 Apr 2020   \n43231  Great adapter.  Nice looking and works flawlessly  19 Apr 2020   \n43232  Behaves exactly as expected. No cutouts or wei...  12 Feb 2020   \n\n                         variant  images verified              author  rating  \\\n0                   Color: Black     NaN      Yes              Jordon     5.0   \n1                   Color: Black     NaN      Yes  C. Matthew Hawkins     5.0   \n2                   Color: Black     NaN      Yes               David     5.0   \n3                   Color: Black     NaN      Yes             Publius     5.0   \n4                   Color: Black     NaN      Yes      Johan Schimmel     5.0   \n...                          ...     ...      ...                 ...     ...   \n43228  Size: DJ44A (2.5mm-4.4mm)     NaN      Yes      Mountainman...     5.0   \n43229  Size: DJ44A (2.5mm-4.4mm)     NaN      Yes                   S     4.0   \n43230  Size: DJ35A (2.5mm-3.5mm)     NaN      Yes         Ryan Pinney     5.0   \n43231  Size: DJ44A (2.5mm-4.4mm)     NaN      Yes      Luke Skywalker     5.0   \n43232  Size: DJ35A (2.5mm-3.5mm)     NaN      Yes              Hank F     5.0   \n\n                                                 product  \\\n0      Betron DC950HI Earphone with Mic and Remote Co...   \n1      Betron DC950HI Earphone with Mic and Remote Co...   \n2      Betron DC950HI Earphone with Mic and Remote Co...   \n3      Betron DC950HI Earphone with Mic and Remote Co...   \n4      Betron DC950HI Earphone with Mic and Remote Co...   \n...                                                  ...   \n43228  DD ddHiFi DJ35A 2.5mm Balanced Female to 3.5mm...   \n43229  DD ddHiFi DJ35A 2.5mm Balanced Female to 3.5mm...   \n43230  DD ddHiFi DJ35A 2.5mm Balanced Female to 3.5mm...   \n43231  DD ddHiFi DJ35A 2.5mm Balanced Female to 3.5mm...   \n43232  DD ddHiFi DJ35A 2.5mm Balanced Female to 3.5mm...   \n\n                                                     url  \n0      https://www.amazon.com/Betron-Headphones-Earph...  \n1      https://www.amazon.com/Betron-Headphones-Earph...  \n2      https://www.amazon.com/Betron-Headphones-Earph...  \n3      https://www.amazon.com/Betron-Headphones-Earph...  \n4      https://www.amazon.com/Betron-Headphones-Earph...  \n...                                                  ...  \n43228  https://www.amazon.com/DD-DJ35A-Headphone-Conv...  \n43229  https://www.amazon.com/DD-DJ35A-Headphone-Conv...  \n43230  https://www.amazon.com/DD-DJ35A-Headphone-Conv...  \n43231  https://www.amazon.com/DD-DJ35A-Headphone-Conv...  \n43232  https://www.amazon.com/DD-DJ35A-Headphone-Conv...  \n\n[43233 rows x 11 columns]",
      "text/html": "<div>\n<style scoped>\n    .dataframe tbody tr th:only-of-type {\n        vertical-align: middle;\n    }\n\n    .dataframe tbody tr th {\n        vertical-align: top;\n    }\n\n    .dataframe thead th {\n        text-align: right;\n    }\n</style>\n<table border=\"1\" class=\"dataframe\">\n  <thead>\n    <tr style=\"text-align: right;\">\n      <th></th>\n      <th>ASIN</th>\n      <th>title</th>\n      <th>content</th>\n      <th>date</th>\n      <th>variant</th>\n      <th>images</th>\n      <th>verified</th>\n      <th>author</th>\n      <th>rating</th>\n      <th>product</th>\n      <th>url</th>\n    </tr>\n  </thead>\n  <tbody>\n    <tr>\n      <th>0</th>\n      <td>B00N771OEE</td>\n      <td>so I turned to more inexpensive alternatives t...</td>\n      <td>I bought these along with the (Betron YSM1000 ...</td>\n      <td>26 Jan 2018</td>\n      <td>Color: Black</td>\n      <td>NaN</td>\n      <td>Yes</td>\n      <td>Jordon</td>\n      <td>5.0</td>\n      <td>Betron DC950HI Earphone with Mic and Remote Co...</td>\n      <td>https://www.amazon.com/Betron-Headphones-Earph...</td>\n    </tr>\n    <tr>\n      <th>1</th>\n      <td>B00N771OEE</td>\n      <td>In-Ear Headphones that Feel Like a Live Perfor...</td>\n      <td>When my old earbuds stopped working in the mid...</td>\n      <td>25 Feb 2019</td>\n      <td>Color: Black</td>\n      <td>NaN</td>\n      <td>Yes</td>\n      <td>C. Matthew Hawkins</td>\n      <td>5.0</td>\n      <td>Betron DC950HI Earphone with Mic and Remote Co...</td>\n      <td>https://www.amazon.com/Betron-Headphones-Earph...</td>\n    </tr>\n    <tr>\n      <th>2</th>\n      <td>B00N771OEE</td>\n      <td>Great Buy if You Want Great Sound Quality, Dee...</td>\n      <td>I was pleasantly surprised by the high quality...</td>\n      <td>19 Apr 2018</td>\n      <td>Color: Black</td>\n      <td>NaN</td>\n      <td>Yes</td>\n      <td>David</td>\n      <td>5.0</td>\n      <td>Betron DC950HI Earphone with Mic and Remote Co...</td>\n      <td>https://www.amazon.com/Betron-Headphones-Earph...</td>\n    </tr>\n    <tr>\n      <th>3</th>\n      <td>B00N771OEE</td>\n      <td>I wish I could give 6 stars!</td>\n      <td>If I could give these earphones 6 stars, I wou...</td>\n      <td>23 Jul 2018</td>\n      <td>Color: Black</td>\n      <td>NaN</td>\n      <td>Yes</td>\n      <td>Publius</td>\n      <td>5.0</td>\n      <td>Betron DC950HI Earphone with Mic and Remote Co...</td>\n      <td>https://www.amazon.com/Betron-Headphones-Earph...</td>\n    </tr>\n    <tr>\n      <th>4</th>\n      <td>B00N771OEE</td>\n      <td>great head phones</td>\n      <td>fast shipping, great head phones. You guys sho...</td>\n      <td>19 Nov 2017</td>\n      <td>Color: Black</td>\n      <td>NaN</td>\n      <td>Yes</td>\n      <td>Johan Schimmel</td>\n      <td>5.0</td>\n      <td>Betron DC950HI Earphone with Mic and Remote Co...</td>\n      <td>https://www.amazon.com/Betron-Headphones-Earph...</td>\n    </tr>\n    <tr>\n      <th>...</th>\n      <td>...</td>\n      <td>...</td>\n      <td>...</td>\n      <td>...</td>\n      <td>...</td>\n      <td>...</td>\n      <td>...</td>\n      <td>...</td>\n      <td>...</td>\n      <td>...</td>\n      <td>...</td>\n    </tr>\n    <tr>\n      <th>43228</th>\n      <td>B082CSM4P4</td>\n      <td>Compact, Well Made...  Perfect!</td>\n      <td>Best adapter for the 2.5 balanced into a 4.4 b...</td>\n      <td>09 Apr 2020</td>\n      <td>Size: DJ44A (2.5mm-4.4mm)</td>\n      <td>NaN</td>\n      <td>Yes</td>\n      <td>Mountainman...</td>\n      <td>5.0</td>\n      <td>DD ddHiFi DJ35A 2.5mm Balanced Female to 3.5mm...</td>\n      <td>https://www.amazon.com/DD-DJ35A-Headphone-Conv...</td>\n    </tr>\n    <tr>\n      <th>43229</th>\n      <td>B082CSM4P4</td>\n      <td>it works and looks nice</td>\n      <td>I tested it with ie800S 2.5mm and it works. ob...</td>\n      <td>05 May 2020</td>\n      <td>Size: DJ44A (2.5mm-4.4mm)</td>\n      <td>NaN</td>\n      <td>Yes</td>\n      <td>S</td>\n      <td>4.0</td>\n      <td>DD ddHiFi DJ35A 2.5mm Balanced Female to 3.5mm...</td>\n      <td>https://www.amazon.com/DD-DJ35A-Headphone-Conv...</td>\n    </tr>\n    <tr>\n      <th>43230</th>\n      <td>B082CSM4P4</td>\n      <td>Fantastic product with small form factor!</td>\n      <td>Works as advertised. The 90 degree angle reall...</td>\n      <td>10 Apr 2020</td>\n      <td>Size: DJ35A (2.5mm-3.5mm)</td>\n      <td>NaN</td>\n      <td>Yes</td>\n      <td>Ryan Pinney</td>\n      <td>5.0</td>\n      <td>DD ddHiFi DJ35A 2.5mm Balanced Female to 3.5mm...</td>\n      <td>https://www.amazon.com/DD-DJ35A-Headphone-Conv...</td>\n    </tr>\n    <tr>\n      <th>43231</th>\n      <td>B082CSM4P4</td>\n      <td>Perfect</td>\n      <td>Great adapter.  Nice looking and works flawlessly</td>\n      <td>19 Apr 2020</td>\n      <td>Size: DJ44A (2.5mm-4.4mm)</td>\n      <td>NaN</td>\n      <td>Yes</td>\n      <td>Luke Skywalker</td>\n      <td>5.0</td>\n      <td>DD ddHiFi DJ35A 2.5mm Balanced Female to 3.5mm...</td>\n      <td>https://www.amazon.com/DD-DJ35A-Headphone-Conv...</td>\n    </tr>\n    <tr>\n      <th>43232</th>\n      <td>B082CSM4P4</td>\n      <td>Exactly as advertised</td>\n      <td>Behaves exactly as expected. No cutouts or wei...</td>\n      <td>12 Feb 2020</td>\n      <td>Size: DJ35A (2.5mm-3.5mm)</td>\n      <td>NaN</td>\n      <td>Yes</td>\n      <td>Hank F</td>\n      <td>5.0</td>\n      <td>DD ddHiFi DJ35A 2.5mm Balanced Female to 3.5mm...</td>\n      <td>https://www.amazon.com/DD-DJ35A-Headphone-Conv...</td>\n    </tr>\n  </tbody>\n</table>\n<p>43233 rows × 11 columns</p>\n</div>"
     },
     "metadata": {},
     "execution_count": 6
    }
   ],
   "source": [
    "reviews"
   ]
  },
  {
   "cell_type": "code",
   "execution_count": null,
   "metadata": {},
   "outputs": [],
   "source": []
  }
 ],
 "metadata": {
  "language_info": {
   "codemirror_mode": {
    "name": "ipython",
    "version": 3
   },
   "file_extension": ".py",
   "mimetype": "text/x-python",
   "name": "python",
   "nbconvert_exporter": "python",
   "pygments_lexer": "ipython3",
   "version": "3.8.3-final"
  },
  "orig_nbformat": 2,
  "kernelspec": {
   "name": "python38332bitb722a6b6e0ac430ba299884178c2c126",
   "display_name": "Python 3.8.3 32-bit"
  }
 },
 "nbformat": 4,
 "nbformat_minor": 2
}